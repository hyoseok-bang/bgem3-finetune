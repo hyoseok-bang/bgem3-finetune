{
 "cells": [
  {
   "cell_type": "code",
   "execution_count": 2,
   "id": "1a2b49b5",
   "metadata": {},
   "outputs": [
    {
     "name": "stdout",
     "output_type": "stream",
     "text": [
      "모델이 'bge_m3_finetuned_local'에 저장되었습니다.\n"
     ]
    }
   ],
   "source": [
    "from transformers import AutoModel, AutoTokenizer\n",
    "import torch\n",
    "from sentence_transformers import SentenceTransformer\n",
    "\n",
    "# 1. 원래 모델과 토크나이저 로드\n",
    "# model = torch.load(\"best_model_full.pt\", map_location=torch.device('cpu'))  # 로컬 .pt 파일\n",
    "model = AutoModel.from_pretrained(\"BAAI/bge-m3\")\n",
    "tokenizer = AutoTokenizer.from_pretrained(\"BAAI/bge-m3\")\n",
    "\n",
    "# 2. 모델을 SentenceTransformer로 래핑\n",
    "# modules는 Transformer와 Pooling 레이어로 구성\n",
    "from sentence_transformers.models import Transformer, Pooling\n",
    "transformer = Transformer(model_name_or_path=\"BAAI/bge-m3\")\n",
    "transformer.auto_model = model  # 로드한 모델로 교체\n",
    "pooling = Pooling(model.config.hidden_size, pooling_mode=\"mean\")  # bge-m3은 mean pooling 사용\n",
    "\n",
    "st_model = SentenceTransformer(modules=[transformer, pooling])\n",
    "\n",
    "# 3. 변환된 모델 저장\n",
    "st_model.save(\"bge_m3_finetuned_local\")\n",
    "print(\"모델이 'bge_m3_finetuned_local'에 저장되었습니다.\")"
   ]
  }
 ],
 "metadata": {
  "kernelspec": {
   "display_name": "bge-m3",
   "language": "python",
   "name": "python3"
  },
  "language_info": {
   "codemirror_mode": {
    "name": "ipython",
    "version": 3
   },
   "file_extension": ".py",
   "mimetype": "text/x-python",
   "name": "python",
   "nbconvert_exporter": "python",
   "pygments_lexer": "ipython3",
   "version": "3.12.9"
  }
 },
 "nbformat": 4,
 "nbformat_minor": 5
}
